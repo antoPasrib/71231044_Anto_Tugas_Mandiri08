{
 "cells": [
  {
   "cell_type": "code",
   "execution_count": null,
   "id": "97ec8d55",
   "metadata": {},
   "outputs": [],
   "source": [
    "import difflib\n",
    "\n",
    "def compare_files(file1, file2):\n",
    "    with open(file1, 'r') as f1, open(file2, 'r') as f2:\n",
    "        line1 = f1.readlines()\n",
    "        line2 = f2.readlines()\n",
    "\n",
    "    differ = difflib.Differ()\n",
    "    diff = list(differ.compare(line1, line2))\n",
    "\n",
    "    differences_found = False\n",
    "    for line in diff:\n",
    "        if line.startswith('- ') or line.startswith('+ '):\n",
    "            differences_found = True\n",
    "            print(line.strip())\n",
    "\n",
    "    if not differences_found:\n",
    "        print(\"Tidak ada perbedaan antara kedua file.\")\n",
    "\n",
    "\n",
    "file1 = input(\"Masukkan nama file pertama: \")\n",
    "file2 = input(\"Masukkan nama file kedua: \")\n",
    "\n",
    "print(\"Perbedaan antara kedua file:\")\n",
    "compare_files(file1, file2)"
   ]
  },
  {
   "cell_type": "code",
   "execution_count": null,
   "id": "0f0bc13f",
   "metadata": {},
   "outputs": [],
   "source": [
    "file = open('soal.txt')\n",
    "\n",
    "for line in file:\n",
    "    i = line.split(\" || \")\n",
    "    print(i[0])\n",
    "    answer = input(\"Jawab: \")\n",
    "    if answer.lower() == i[1].lower().replace(\"\\n\", \"\"):\n",
    "        print(\"Jawaban benar!\")\n",
    "    else:\n",
    "        print(\"Jawaban salah!\")"
   ]
  }
 ],
 "metadata": {
  "kernelspec": {
   "display_name": "Python 3 (ipykernel)",
   "language": "python",
   "name": "python3"
  },
  "language_info": {
   "codemirror_mode": {
    "name": "ipython",
    "version": 3
   },
   "file_extension": ".py",
   "mimetype": "text/x-python",
   "name": "python",
   "nbconvert_exporter": "python",
   "pygments_lexer": "ipython3",
   "version": "3.11.5"
  }
 },
 "nbformat": 4,
 "nbformat_minor": 5
}
